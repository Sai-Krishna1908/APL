{
 "cells": [
  {
   "cell_type": "markdown",
   "id": "bc66b3b5-035d-4397-af1d-5c64e180632f",
   "metadata": {},
   "source": [
    "# Document metadata\n",
    "\n",
    "> *Problem statement: modify this document so that the author name reflects your name and roll number.  Explain the changes you needed to make here.  If you use other approaches such as LaTeX to generate the PDF, explain the differences between the notebook approach and what you have used.*"
   ]
  },
  {
   "cell_type": "markdown",
   "id": "38f20115-cc61-4fb8-83b3-e48f9874f4cc",
   "metadata": {},
   "source": [
    "I opened Notebook Metadata cell and changed the authors name to my name."
   ]
  },
  {
   "cell_type": "markdown",
   "id": "071ae5a2-e279-4652-8d6f-0e09035ab03e",
   "metadata": {},
   "source": [
    "**Process of running code**"
   ]
  },
  {
   "cell_type": "markdown",
   "id": "bd221d2e-d87f-4be5-82be-3398e710a557",
   "metadata": {},
   "source": [
    "This notebook is written in Jupyter and run the cells in the given sequence to generate desired output.\n",
    "This notebook can also be opened in other platforms like:\n",
    "  1. VScode\n",
    "  2. Google colab"
   ]
  },
  {
   "cell_type": "markdown",
   "id": "47576f05-90e1-4c8b-b75b-13ebffe95171",
   "metadata": {},
   "source": [
    "# Basic Data Types\n",
    "\n",
    "Here we have a series of small problems involving various basic data types in Python.  You are required to complete the code where required, and give *brief* explanations of your answers.  Remember that the documentation and explanation is as important as the answer.\n",
    "\n",
    "For each of the following cells, first execute them, and then give a brief explanation of why the answer comes out to be the way it does.  If there is an error during execution of the cell, explain how you fixed it.  **Add a new cell of type Markdown with the explanation** after the corresponding cell.  If you are using plain Python, add suitable comments after each line and explain this in the documentation (clearly you would be better off using Notebooks here)."
   ]
  },
  {
   "cell_type": "markdown",
   "id": "90d271f4",
   "metadata": {},
   "source": [
    "## Numerical types"
   ]
  },
  {
   "cell_type": "code",
   "execution_count": 1,
   "id": "1e2d2e6e",
   "metadata": {},
   "outputs": [
    {
     "name": "stdout",
     "output_type": "stream",
     "text": [
      "2.4\n"
     ]
    }
   ],
   "source": [
    "print(12 / 5)"
   ]
  },
  {
   "cell_type": "markdown",
   "id": "e4e90140-fc74-4b67-bce6-d6ef80c2e48c",
   "metadata": {},
   "source": [
    "It prints **2.4** because **/** means simple division and it returns float value."
   ]
  },
  {
   "cell_type": "code",
   "execution_count": 1,
   "id": "1b587eb7",
   "metadata": {},
   "outputs": [
    {
     "name": "stdout",
     "output_type": "stream",
     "text": [
      "2\n"
     ]
    }
   ],
   "source": [
    "print(12 // 5)"
   ]
  },
  {
   "cell_type": "markdown",
   "id": "331b8c11-1b51-440e-a721-098bdcbebf99",
   "metadata": {},
   "source": [
    "It prints **2** because **//** means floor division i.e., it returns floor value of the division. "
   ]
  },
  {
   "cell_type": "code",
   "execution_count": 4,
   "id": "97a6c535",
   "metadata": {},
   "outputs": [
    {
     "name": "stdout",
     "output_type": "stream",
     "text": [
      "10 10 1.0\n"
     ]
    }
   ],
   "source": [
    "a=b=10\n",
    "print(a,b,a/b)"
   ]
  },
  {
   "cell_type": "markdown",
   "id": "96025e0c-dc78-4662-883b-3d446c741baf",
   "metadata": {},
   "source": [
    "By default it prints space if there is a comma in print statement.As mentioned above it outputs 1.0(float value) for a/b."
   ]
  },
  {
   "cell_type": "markdown",
   "id": "af329d1c",
   "metadata": {},
   "source": [
    "## Strings and related operations"
   ]
  },
  {
   "cell_type": "code",
   "execution_count": 5,
   "id": "ba913542",
   "metadata": {},
   "outputs": [
    {
     "name": "stdout",
     "output_type": "stream",
     "text": [
      "Hello \n"
     ]
    }
   ],
   "source": [
    "a = \"Hello \"\n",
    "print(a)"
   ]
  },
  {
   "cell_type": "markdown",
   "id": "a9c0fb44-2f13-4707-805b-4f87f9f44239",
   "metadata": {},
   "source": [
    "Here we assigned  Hello  to a, so it prints Hello . "
   ]
  },
  {
   "cell_type": "code",
   "execution_count": 6,
   "id": "ad0e046b",
   "metadata": {},
   "outputs": [
    {
     "ename": "TypeError",
     "evalue": "can only concatenate str (not \"int\") to str",
     "output_type": "error",
     "traceback": [
      "\u001b[0;31m---------------------------------------------------------------------------\u001b[0m",
      "\u001b[0;31mTypeError\u001b[0m                                 Traceback (most recent call last)",
      "Cell \u001b[0;32mIn[6], line 1\u001b[0m\n\u001b[0;32m----> 1\u001b[0m \u001b[38;5;28mprint\u001b[39m(\u001b[43ma\u001b[49m\u001b[38;5;241;43m+\u001b[39;49m\u001b[43mb\u001b[49m)  \u001b[38;5;66;03m# Output should contain \"Hello 10\" \u001b[39;00m\n",
      "\u001b[0;31mTypeError\u001b[0m: can only concatenate str (not \"int\") to str"
     ]
    }
   ],
   "source": [
    "print(a+b)  # Output should contain \"Hello 10\" "
   ]
  },
  {
   "cell_type": "markdown",
   "id": "b3df9c83-fe3c-4d49-ae18-39033b97f9b2",
   "metadata": {},
   "source": [
    "Its showing error because a is of str datatype and b is of int datatype and we can't add two different data types. To overcome this we have to typecast b to string datatype i.e., **b=str(10)**."
   ]
  },
  {
   "cell_type": "markdown",
   "id": "bc1f5d80-5ed9-47ee-9313-9ea0158bd7f0",
   "metadata": {},
   "source": [
    "**CORRECT CODE**"
   ]
  },
  {
   "cell_type": "code",
   "execution_count": 7,
   "id": "fd9acdde-f14f-48f2-bcd9-d7ab8b20ad3f",
   "metadata": {},
   "outputs": [
    {
     "name": "stdout",
     "output_type": "stream",
     "text": [
      "Hello 10\n"
     ]
    }
   ],
   "source": [
    "print(a+str(b))"
   ]
  },
  {
   "cell_type": "code",
   "execution_count": null,
   "id": "e2793fa4",
   "metadata": {},
   "outputs": [],
   "source": [
    "# Print out a line of 40 '-' signs (to look like one long line)\n",
    "# Then print the number 42 so that it is right justified to the end of \n",
    "# the above line\n",
    "# Then print one more line of length 40, but with the pattern '*-*-*-' \n"
   ]
  },
  {
   "cell_type": "code",
   "execution_count": 1,
   "id": "c979d166-e33a-4f02-9b0c-fe2de23bc138",
   "metadata": {},
   "outputs": [
    {
     "name": "stdout",
     "output_type": "stream",
     "text": [
      "----------------------------------------\n",
      "                                      42\n",
      "*-*-*-*-*-*-*-*-*-*-*-*-*-*-*-*-*-*-*-*-\n"
     ]
    }
   ],
   "source": [
    "print(40*\"-\")\n",
    "print(f\"{42:>40}\")\n",
    "print(20*\"*-\")"
   ]
  },
  {
   "cell_type": "markdown",
   "id": "eeefa454-7218-4237-8be1-73ee6f1097ac",
   "metadata": {},
   "source": [
    "Here f allocates 40 spaces to 42 and since its given its right justified,so it prints value from right end."
   ]
  },
  {
   "cell_type": "code",
   "execution_count": 8,
   "id": "9b4e1f03",
   "metadata": {},
   "outputs": [
    {
     "name": "stdout",
     "output_type": "stream",
     "text": [
      "The variable 'a' has the value Hello  and 'b' has the value         10\n"
     ]
    }
   ],
   "source": [
    "print(f\"The variable 'a' has the value {a} and 'b' has the value {b:>10}\")"
   ]
  },
  {
   "cell_type": "markdown",
   "id": "668f8a3d-d323-40fb-a498-63ec33c9b8a1",
   "metadata": {},
   "source": [
    "**f** in the print statement is format string, it is used to insert the recently updated values of the variable inside the **{}**(curly braces) and {b:>10} is used to right justify b to 10 spaces. "
   ]
  },
  {
   "cell_type": "code",
   "execution_count": null,
   "id": "9d746f81",
   "metadata": {},
   "outputs": [],
   "source": [
    "# Create a list of dictionaries where each entry in the list has two keys:\n",
    "# - id: this will be the ID number of a course, for example 'EE2703'\n",
    "# - name: this will be the name, for example 'Applied Programming Lab'\n",
    "# Add 3 entries:\n",
    "# EE2703 -> Applied Programming Lab\n",
    "# EE2003 -> Computer Organization\n",
    "# EE5311 -> Digital IC Design\n",
    "# Then print out the entries in a neatly formatted table where the \n",
    "# ID number is left justified\n",
    "# to 10 spaces and the name is right justified to 40 spaces.  \n",
    "# That is it should look like:\n",
    "\n",
    "# EE2703                     Applied Programming Lab\n",
    "# EE2003                       Computer Organization\n",
    "# EE5131                           Digital IC Design\n"
   ]
  },
  {
   "cell_type": "markdown",
   "id": "b4ea8967-cbd2-4eb0-a76d-1ff5178b5e5c",
   "metadata": {},
   "source": [
    "In the below code format string allocates first 10 spaces to id dictionary and last 40 spaces to name dictionary.I iterated through every dictionary in the list and printed the course id and name following the given condition."
   ]
  },
  {
   "cell_type": "code",
   "execution_count": 11,
   "id": "2ff6c3d5-4f44-47b9-9439-9b2b5bede9e9",
   "metadata": {},
   "outputs": [
    {
     "name": "stdout",
     "output_type": "stream",
     "text": [
      "EE2004                    Digital Signal Processing\n",
      "EE2703                      Applied Programming Lab\n",
      "EE3001                          Solid State Devices\n"
     ]
    }
   ],
   "source": [
    "list=[{\"id\":\"EE2004\",\"name\":\"Digital Signal Processing\"},{\"id\":\"EE2703\",\"name\":\" Applied Programming Lab\"},{\"id\":\"EE3001\",\"name\":\"Solid State Devices\"}]\n",
    "\n",
    "for i in list:\n",
    "    print(f\"{i['id']:<10} {i['name']:>40}\")"
   ]
  },
  {
   "cell_type": "markdown",
   "id": "959169d6",
   "metadata": {},
   "source": [
    "# Functions for general manipulation"
   ]
  },
  {
   "cell_type": "code",
   "execution_count": 15,
   "id": "fb799573",
   "metadata": {},
   "outputs": [],
   "source": [
    "# Write a function with name 'twosc' that will take a single integer \n",
    "# as input, and print out the binary representation of the number \n",
    "# as output.  The function should take one other optional parameter N \n",
    "# which represents the number of bits.  The final result should always \n",
    "# contain N characters as output (either 0 or 1) and should use \n",
    "# two's complement to represent the number if it is negative.\n",
    "# Examples:\n",
    "# twosc(10): 0000000000001010\n",
    "# twosc(-10): 1111111111110110\n",
    "# twosc(-20, 8): 11101100\n",
    "#\n",
    "# Use only functions from the Python standard library to do this.\n",
    "def twosc(x, N=16):\n",
    "    pass"
   ]
  },
  {
   "cell_type": "code",
   "execution_count": 1,
   "id": "351fdfcf-fab6-4bd0-b9ba-6dd996482d71",
   "metadata": {},
   "outputs": [
    {
     "name": "stdin",
     "output_type": "stream",
     "text": [
      " 5\n"
     ]
    },
    {
     "name": "stdout",
     "output_type": "stream",
     "text": [
      "0000000000000101\n"
     ]
    }
   ],
   "source": [
    "def twosc(n,N):\n",
    "    if n<0:\n",
    "        n=2**N+n\n",
    "    bin=\"\"    \n",
    "    while N>0:\n",
    "        if n%2==1:\n",
    "            bin=\"1\"+bin\n",
    "        else:\n",
    "            bin=\"0\"+bin\n",
    "        n=n//2    \n",
    "        N=N-1    \n",
    "    return bin        \n",
    "n=int(input())\n",
    "print(twosc(n,16))"
   ]
  },
  {
   "cell_type": "markdown",
   "id": "24501c8a-3884-435e-b39e-43d24caa9b29",
   "metadata": {},
   "source": [
    "If the number is **negative**, two's complement of that can be found by binary representation of that **number + 2 power no.of bits**.Then I initialised an empty string, then for binary representation we need remainder with 2 every time we divide the number with 2 and i added the remainder to the string to get binary representation of the number."
   ]
  },
  {
   "cell_type": "markdown",
   "id": "d9845f63",
   "metadata": {},
   "source": [
    "# List comprehensions and decorators"
   ]
  },
  {
   "cell_type": "code",
   "execution_count": 2,
   "id": "9f573a70-d7f0-4496-926f-34b7cff5492f",
   "metadata": {},
   "outputs": [
    {
     "data": {
      "text/plain": [
       "[0, 4, 16, 36, 64]"
      ]
     },
     "execution_count": 2,
     "metadata": {},
     "output_type": "execute_result"
    }
   ],
   "source": [
    "# Explain the output you see below\n",
    "[x*x for x in range(10) if x%2 == 0]"
   ]
  },
  {
   "cell_type": "code",
   "execution_count": null,
   "id": "68914463-60d6-4088-a77b-eefb23cb6e1f",
   "metadata": {},
   "outputs": [],
   "source": [
    "It calculates squares of even numbers below 10 and makes a list of them."
   ]
  },
  {
   "cell_type": "code",
   "execution_count": 7,
   "id": "d34ddb81-5caf-40a7-ac1f-43ce08d64220",
   "metadata": {},
   "outputs": [
    {
     "data": {
      "text/plain": [
       "[1, 2, 3, 4, 5, 6, 7, 8, 9]"
      ]
     },
     "execution_count": 7,
     "metadata": {},
     "output_type": "execute_result"
    }
   ],
   "source": [
    "# Explain the output you see below\n",
    "matrix = [[1,2,3], [4,5,6], [7,8,9]]\n",
    "[v for row in matrix for v in row]"
   ]
  },
  {
   "cell_type": "code",
   "execution_count": null,
   "id": "72bdc818-9758-438e-a120-df604dedcfb6",
   "metadata": {},
   "outputs": [],
   "source": [
    "It goes from row to row accessing every element in that row and creating a new list v."
   ]
  },
  {
   "cell_type": "code",
   "execution_count": null,
   "id": "e7349601-a068-4d91-bc0f-bcc755c4b215",
   "metadata": {},
   "outputs": [],
   "source": [
    "# Define a function `is_prime(x)` that will return True if a number \n",
    "# is prime, or False otherwise.\n",
    "# Use it to write a one-line statement that will print all \n",
    "# prime numbers between 1 and 100"
   ]
  },
  {
   "cell_type": "code",
   "execution_count": 14,
   "id": "0f70b9d6-a939-40ac-8790-e53ea7efc267",
   "metadata": {},
   "outputs": [
    {
     "name": "stdout",
     "output_type": "stream",
     "text": [
      "[2, 3, 5, 7, 11, 13, 17, 19, 23, 29, 31, 37, 41, 43, 47, 53, 59, 61, 67, 71, 73, 79, 83, 89, 97]\n"
     ]
    }
   ],
   "source": [
    "def is_prime(x):\n",
    "    if x<=1:\n",
    "        return False\n",
    "    for i in range(2,x//2+1):\n",
    "        if x%i==0:\n",
    "            return False\n",
    "    return True\n",
    "print([x for x in range(1,101) if is_prime(x)])"
   ]
  },
  {
   "cell_type": "markdown",
   "id": "078a9109-8a95-4a58-a9e1-98b8bfa62dcf",
   "metadata": {},
   "source": [
    "For this I checked if there is a factor in range (2 to half of that number).If there is then its not a prime number.Then I used the same function to make a list of prime numbers below 100."
   ]
  },
  {
   "cell_type": "code",
   "execution_count": 2,
   "id": "3dd1087b-f384-41a2-88d8-6788336d2291",
   "metadata": {},
   "outputs": [
    {
     "name": "stdout",
     "output_type": "stream",
     "text": [
      "Hello happy flappy world\n"
     ]
    }
   ],
   "source": [
    "# Explain the output below\n",
    "def f1(x):\n",
    "    return \"happy \" + x\n",
    "def f2(f):\n",
    "    def wrapper(*args, **kwargs):\n",
    "        return \"Hello \" + f(*args, **kwargs) + \" world\"\n",
    "    return wrapper\n",
    "f3 = f2(f1)\n",
    "print(f3(\"flappy\"))"
   ]
  },
  {
   "cell_type": "markdown",
   "id": "98ebb3d8-d269-4c7c-81e1-5ee6f1342ae6",
   "metadata": {},
   "source": [
    "Here 'f1(flappy)' returns \"happy flappy\".The fuction f2 takes \"f' as an input and returns function called \"wrapper\".For the wrapper function we don't need to mention the number of inputs we are giving as it takes any number of arguments(args) and keywordarguments(kwargs).If there's a dictionary in the input we are giving to the function then it comes under keyword arguments.Here the function 'f2' returns \"Hello happy flappy world\"."
   ]
  },
  {
   "cell_type": "code",
   "execution_count": 3,
   "id": "ede870a7-6564-4930-9ff1-818f075c3e43",
   "metadata": {},
   "outputs": [
    {
     "name": "stdout",
     "output_type": "stream",
     "text": [
      "Hello nappy flappy world\n"
     ]
    }
   ],
   "source": [
    "# Explain the output below\n",
    "@f2\n",
    "def f4(x):\n",
    "    return \"nappy \" + x\n",
    "\n",
    "print(f4(\"flappy\"))"
   ]
  },
  {
   "cell_type": "markdown",
   "id": "18479c48-bb71-4709-9c4a-d845cb968954",
   "metadata": {},
   "source": [
    "**@f2** is a decorator and function 'f4' is decorated with 'f2' which means f4=f2(f4).So it returns \"Hello napy flappy world\"."
   ]
  },
  {
   "cell_type": "markdown",
   "id": "de144cc1-a06a-4e96-8017-7887296dddc0",
   "metadata": {
    "tags": []
   },
   "source": [
    "# File IO"
   ]
  },
  {
   "cell_type": "code",
   "execution_count": null,
   "id": "09e62f52-fec6-4026-a4d8-ca4b87b19732",
   "metadata": {},
   "outputs": [],
   "source": [
    "# Write a function to generate prime numbers from 1 to N (input)\n",
    "# and write them to a file (second argument).  You can reuse the prime\n",
    "# detection function written earlier.\n",
    "def write_primes(N, filename):\n",
    "    pass"
   ]
  },
  {
   "cell_type": "code",
   "execution_count": 4,
   "id": "a8ac044a-5666-44a7-81b2-207e9b97c262",
   "metadata": {},
   "outputs": [
    {
     "name": "stdin",
     "output_type": "stream",
     "text": [
      " 20\n"
     ]
    }
   ],
   "source": [
    "def is_prime(x):\n",
    "    if x<=1:\n",
    "        return False\n",
    "    for i in range(2,x//2+1):\n",
    "        if x%i==0:\n",
    "            return False\n",
    "    return True\n",
    "def write_prime(N,filename):\n",
    "    file=open(filename,\"w\")\n",
    "    for x in range(2,N+1):\n",
    "        if is_prime(x):\n",
    "            file.write(str(x)+\"\\n\")\n",
    "    file.close()\n",
    "N=int(input())\n",
    "filename=\"primes from 1 to N\"\n",
    "write_prime(N,filename)"
   ]
  },
  {
   "cell_type": "markdown",
   "id": "91a11e9f-743e-467a-96f6-6e77f97ebc16",
   "metadata": {},
   "source": [
    "Here I used previous function is_prime(x).since we need the numbers in the file, we need to **write** them to the file and the above code creates a text file named **primes from 1 to N** and open(filename,\"w\") opens the file and since we need to write those vakues in it we mentioned \"w\"."
   ]
  },
  {
   "cell_type": "markdown",
   "id": "9b2de5cb-13c3-4804-9576-e7bb6fd3a371",
   "metadata": {
    "tags": []
   },
   "source": [
    "# Exceptions"
   ]
  },
  {
   "cell_type": "code",
   "execution_count": null,
   "id": "eec5626e-6e92-45bf-b307-2459de0f44e1",
   "metadata": {},
   "outputs": [],
   "source": [
    "# Write a function that takes in a number as input, and prints out \n",
    "# whether it is a prime or not.  If the input is not an integer,\n",
    "# print an appropriate error message.  Use exceptions to detect problems.\n",
    "def check_prime(x):\n",
    "    pass\n",
    "x = input('Enter a number: ')\n",
    "check_prime(x)"
   ]
  },
  {
   "cell_type": "code",
   "execution_count": null,
   "id": "5f680e7a-ff2e-4d0a-b787-745513ec1dd4",
   "metadata": {},
   "outputs": [],
   "source": [
    "def check_prime(x):\n",
    "    try:\n",
    "        x=int(x)\n",
    "        if x<=1:\n",
    "          print(\"The given number is not a prime\")\n",
    "          return\n",
    "        for i in range(2,x//2+1):\n",
    "          if x%i==0:\n",
    "            print(\"The given number is not a prime\")\n",
    "            return\n",
    "        print(\"The given number is a prime\")\n",
    "    except ValueError as e:\n",
    "        print(\"Please enter a valid input(a positive integer)\")  \n",
    "x = input('Enter a number: ')        \n",
    "check_prime(x)"
   ]
  },
  {
   "cell_type": "markdown",
   "id": "23ba4c98-f8ed-4ede-82c1-179b3dd16871",
   "metadata": {},
   "source": [
    "Here **try and except** statements are used to deal with errors that occur while executing a program.First it runs the code within try statement and if an error occurs and if it matches the error type in except statement then instead of giving an error while compiling, it runs the code within except statement.In the above code if we give input as a string or a negative number or a float number, instead of giving an error it executes except statement."
   ]
  }
 ],
 "metadata": {
  "authors": [
   {
    "name": "G.Sai Krishna Reddy <ee21b049@iitm.ac.in>"
   }
  ],
  "kernelspec": {
   "display_name": "Python 3 (ipykernel)",
   "language": "python",
   "name": "python3"
  },
  "language_info": {
   "codemirror_mode": {
    "name": "ipython",
    "version": 3
   },
   "file_extension": ".py",
   "mimetype": "text/x-python",
   "name": "python",
   "nbconvert_exporter": "python",
   "pygments_lexer": "ipython3",
   "version": "3.9.2"
  },
  "title": "EE2703 - Week 1",
  "toc-autonumbering": true,
  "vscode": {
   "interpreter": {
    "hash": "b0fa6594d8f4cbf19f97940f81e996739fb7646882a419484c72d19e05852a7e"
   }
  }
 },
 "nbformat": 4,
 "nbformat_minor": 5
}
