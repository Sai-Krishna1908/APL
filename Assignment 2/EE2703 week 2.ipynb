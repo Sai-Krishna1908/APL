{
 "cells": [
  {
   "cell_type": "markdown",
   "id": "e1fb03bb-84ca-470c-8ee9-a9071af7a1ae",
   "metadata": {},
   "source": [
    "# Factorial:"
   ]
  },
  {
   "cell_type": "markdown",
   "id": "ab73c58b-2b23-4479-a7e1-c8af55cb65f8",
   "metadata": {},
   "source": [
    "## Iterative Algorithm:"
   ]
  },
  {
   "cell_type": "code",
   "execution_count": 1,
   "id": "6661aaf4-d08e-4b4e-9dfc-7f28d38ae6b2",
   "metadata": {},
   "outputs": [
    {
     "name": "stdin",
     "output_type": "stream",
     "text": [
      "Enter a positive integer: 5\n"
     ]
    },
    {
     "name": "stdout",
     "output_type": "stream",
     "text": [
      "120\n",
      "319 ns ± 6.74 ns per loop (mean ± std. dev. of 7 runs, 1,000,000 loops each)\n"
     ]
    }
   ],
   "source": [
    "def fact(n):\n",
    "  if n==0 or n==1:\n",
    "     return 1\n",
    "  f=n\n",
    "  while n>1:\n",
    "     f=f*(n-1)\n",
    "     n=n-1\n",
    "  return f\n",
    "n=int(input('Enter a positive integer:')) \n",
    "print(fact(n)) \n",
    "%timeit fact(n)"
   ]
  },
  {
   "cell_type": "markdown",
   "id": "e544e25f-ec64-4f86-9534-fac1639d90a0",
   "metadata": {},
   "source": [
    "In this code I used iteration to find the factorial of a number."
   ]
  },
  {
   "cell_type": "markdown",
   "id": "e571042d-e584-45ad-8696-2be75ee5167a",
   "metadata": {},
   "source": [
    "## Recursive Algorithm"
   ]
  },
  {
   "cell_type": "code",
   "execution_count": 2,
   "id": "b1c58aab-fa60-4cd7-9d0f-3a9613ec8b05",
   "metadata": {},
   "outputs": [
    {
     "name": "stdin",
     "output_type": "stream",
     "text": [
      "Enter a positive integer: 5\n"
     ]
    },
    {
     "name": "stdout",
     "output_type": "stream",
     "text": [
      "120\n",
      "448 ns ± 15.6 ns per loop (mean ± std. dev. of 7 runs, 1,000,000 loops each)\n"
     ]
    }
   ],
   "source": [
    "def fact(n):\n",
    "    if n==0:\n",
    "     return 1\n",
    "    else:\n",
    "       return fact(n-1)*n\n",
    "n=int(input('Enter a positive integer:')) \n",
    "print(fact(n))\n",
    "%timeit fact(n)"
   ]
  },
  {
   "cell_type": "markdown",
   "id": "b2c294d1-0c7c-4107-8bf6-1649f3e57743",
   "metadata": {},
   "source": [
    "In this code I used recursion to find the factorial of a number."
   ]
  },
  {
   "cell_type": "markdown",
   "id": "4daf536f-3e8f-4212-9a85-67ae1e598d85",
   "metadata": {},
   "source": [
    "Here the second code takes more time than first one because second one uses recursion and every time it calls the function it has to implement from the first line of the code. So it takes more time than the first code."
   ]
  },
  {
   "cell_type": "markdown",
   "id": "b2c0563d-9f08-4f0e-95e1-fd02edabf055",
   "metadata": {},
   "source": [
    "# Gaussian Elimination:"
   ]
  },
  {
   "cell_type": "code",
   "execution_count": 5,
   "id": "e6e144bc-bc5f-46a1-a149-764148459b41",
   "metadata": {},
   "outputs": [
    {
     "name": "stdin",
     "output_type": "stream",
     "text": [
      "Number of equations: 10\n",
      "Number of variables: 10\n"
     ]
    },
    {
     "name": "stdout",
     "output_type": "stream",
     "text": [
      "Enter the elements of the coefficient matrix:\n",
      "Enter the elements of row 1,separate each element with a space:\n"
     ]
    },
    {
     "name": "stdin",
     "output_type": "stream",
     "text": [
      " 1 2 3 4 5 6 7 8 9 10\n"
     ]
    },
    {
     "name": "stdout",
     "output_type": "stream",
     "text": [
      "Enter the elements of row 2,separate each element with a space:\n"
     ]
    },
    {
     "name": "stdin",
     "output_type": "stream",
     "text": [
      " 11 10 12 36 25 98 65 32 14 12\n"
     ]
    },
    {
     "name": "stdout",
     "output_type": "stream",
     "text": [
      "Enter the elements of row 3,separate each element with a space:\n"
     ]
    },
    {
     "name": "stdin",
     "output_type": "stream",
     "text": [
      " 2 21 3 36 39 56 42 58 51 53\n"
     ]
    },
    {
     "name": "stdout",
     "output_type": "stream",
     "text": [
      "Enter the elements of row 4,separate each element with a space:\n"
     ]
    },
    {
     "name": "stdin",
     "output_type": "stream",
     "text": [
      " 10 11 23 15 14 18 19 16 32 25\n"
     ]
    },
    {
     "name": "stdout",
     "output_type": "stream",
     "text": [
      "Enter the elements of row 5,separate each element with a space:\n"
     ]
    },
    {
     "name": "stdin",
     "output_type": "stream",
     "text": [
      " 74 75 96 58 42 16 35 25 69 96\n"
     ]
    },
    {
     "name": "stdout",
     "output_type": "stream",
     "text": [
      "Enter the elements of row 6,separate each element with a space:\n"
     ]
    },
    {
     "name": "stdin",
     "output_type": "stream",
     "text": [
      " 38 39 36 54 52 50 15 14 17 18\n"
     ]
    },
    {
     "name": "stdout",
     "output_type": "stream",
     "text": [
      "Enter the elements of row 7,separate each element with a space:\n"
     ]
    },
    {
     "name": "stdin",
     "output_type": "stream",
     "text": [
      " 1 2 6 55 42 32 95 47 49 2\n"
     ]
    },
    {
     "name": "stdout",
     "output_type": "stream",
     "text": [
      "Enter the elements of row 8,separate each element with a space:\n"
     ]
    },
    {
     "name": "stdin",
     "output_type": "stream",
     "text": [
      " 88 75 94 86 53 50 12 18 19 20\n"
     ]
    },
    {
     "name": "stdout",
     "output_type": "stream",
     "text": [
      "Enter the elements of row 9,separate each element with a space:\n"
     ]
    },
    {
     "name": "stdin",
     "output_type": "stream",
     "text": [
      " 15 75 82 83 81 10 12 19 17 57\n"
     ]
    },
    {
     "name": "stdout",
     "output_type": "stream",
     "text": [
      "Enter the elements of row 10,separate each element with a space:\n"
     ]
    },
    {
     "name": "stdin",
     "output_type": "stream",
     "text": [
      " 24 26 51 57 58 49 48 20 23 24\n"
     ]
    },
    {
     "name": "stdout",
     "output_type": "stream",
     "text": [
      "Enter the elements of the constant vector, separate each element with a space:\n"
     ]
    },
    {
     "name": "stdin",
     "output_type": "stream",
     "text": [
      " 100 101 589 54 632 759 666 21 230 25\n"
     ]
    },
    {
     "name": "stdout",
     "output_type": "stream",
     "text": [
      "[[(1+0j), (2+0j), (3+0j), (4+0j), (5+0j), (6+0j), (7+0j), (8+0j), (9+0j), (10+0j)], [(11+0j), (10+0j), (12+0j), (36+0j), (25+0j), (98+0j), (65+0j), (32+0j), (14+0j), (12+0j)], [(2+0j), (21+0j), (3+0j), (36+0j), (39+0j), (56+0j), (42+0j), (58+0j), (51+0j), (53+0j)], [(10+0j), (11+0j), (23+0j), (15+0j), (14+0j), (18+0j), (19+0j), (16+0j), (32+0j), (25+0j)], [(74+0j), (75+0j), (96+0j), (58+0j), (42+0j), (16+0j), (35+0j), (25+0j), (69+0j), (96+0j)], [(38+0j), (39+0j), (36+0j), (54+0j), (52+0j), (50+0j), (15+0j), (14+0j), (17+0j), (18+0j)], [(1+0j), (2+0j), (6+0j), (55+0j), (42+0j), (32+0j), (95+0j), (47+0j), (49+0j), (2+0j)], [(88+0j), (75+0j), (94+0j), (86+0j), (53+0j), (50+0j), (12+0j), (18+0j), (19+0j), (20+0j)], [(15+0j), (75+0j), (82+0j), (83+0j), (81+0j), (10+0j), (12+0j), (19+0j), (17+0j), (57+0j)], [(24+0j), (26+0j), (51+0j), (57+0j), (58+0j), (49+0j), (48+0j), (20+0j), (23+0j), (24+0j)]] [(100+0j), (101+0j), (589+0j), (54+0j), (632+0j), (759+0j), (666+0j), (21+0j), (230+0j), (25+0j)]\n",
      "Answer:\n",
      "[(-12.186839273517311+0j), (-277.9486378443716+0j), (-99.55969289225702+0j), (496.1019926987126+0j), (-231.0160736010484+0j), (19.479560717572546-0j), (-101.230989325415+0j), (-186.88277737895635+0j), (33.49044217633475-0j), (192.2823391266532-0j)]\n",
      "85.7 µs ± 556 ns per loop (mean ± std. dev. of 7 runs, 10,000 loops each)\n"
     ]
    }
   ],
   "source": [
    "import sys\n",
    "def swap_rows(ag,x,y):\n",
    "    for p in range(n+1):\n",
    "        temp=ag[x][p]\n",
    "        ag[x][p]=ag[y][p]\n",
    "        ag[y][p]=temp\n",
    "def linear_eq_solver(A, b):\n",
    "    n = len(A)\n",
    "    if n != len(b):\n",
    "        return \"Error: coefficient matrix and constant vector have different number of rows.\"\n",
    "\n",
    "    ag = []\n",
    "    for i in range(n):\n",
    "        ag.append(A[i] + [b[i]])\n",
    "        #print(ag)\n",
    "\n",
    "    for k in range(n):\n",
    "        if ag[k][k] == 0:\n",
    "           for t in range(0,n):\n",
    "               if ag[t][k]!=0:\n",
    "                   swap_rows(ag,k,t)\n",
    "                   break\n",
    "        d= ag[k][k]\n",
    "        for j in range(k, n+1):\n",
    "            ag[k][j]=ag[k][j]/d\n",
    "        for i in range(n):\n",
    "            if i == k:\n",
    "                continue\n",
    "            factor = ag[i][k]\n",
    "            for j in range(k, n+1):\n",
    "                ag[i][j]=ag[i][j]-factor * ag[k][j]\n",
    "    #print(ag)\n",
    "    for u in range(n):\n",
    "        if ag[u][u]==0 and ag[u][n]==0:\n",
    "            return \"The given system of linear equations has infinite solutions.\"\n",
    "        elif ag[u][u]==0 and ag[u][n]!=0:\n",
    "            return \"The given system of linear equations has no solution(Inconsistent).\"\n",
    "    #print(ag)\n",
    "    x = [0 for i in range(n)]\n",
    "    for i in range(n):\n",
    "        x[i] = ag[i][n]\n",
    "    return x\n",
    "\n",
    "eq = int(input(\"Number of equations:\"))\n",
    "var = int(input(\"Number of variables:\"))\n",
    "if eq!=var:\n",
    "    print(\"Matrix A won't be a square matrix with the given inputs.please give same number of equations and variables\")\n",
    "    sys.exit()\n",
    "A = []\n",
    "print(\"Enter the elements of the coefficient matrix:\")\n",
    "#since A is a square matrix, number of equations equals to number of rows and coloumns\n",
    "j=1\n",
    "try:\n",
    "    while eq>0:\n",
    "        print(f\"Enter the elements of row {j},separate each element with a space:\")\n",
    "        row = list(map(complex, input().split()))\n",
    "        A.append(row)\n",
    "        eq=eq-1\n",
    "        j=j+1\n",
    "    b=[]\n",
    "    print(\"Enter the elements of the constant vector, separate each element with a space:\")\n",
    "    b = list(map(complex, input().split()))\n",
    "except ValueError:\n",
    "    print(\"please give valid input elements(a float number)\")\n",
    "    sys.exit()\n",
    "n=len(A)\n",
    "print(A,b)\n",
    "print(\"Answer:\")\n",
    "print(linear_eq_solver(A, b))\n",
    "%timeit linear_eq_solver(A, b)"
   ]
  },
  {
   "cell_type": "markdown",
   "id": "bd516a6c-e0b8-4a2e-b74e-96dbcb6dcd6e",
   "metadata": {},
   "source": [
    "Here I iterated through every diagonal elemnet and checked if it's zero.If it is zero then I swapped that row with a row which has non zero element at that position.After finding that non zero diagonal element, by some operations I made every element in that coloumn is zero except that diagonal element.After iterating through every diagonal element the final augmented matrix will look like identity matrix plu b matrix which is the solution matrix.And then I checked for the conditions like inconsistency and infinite solutions. "
   ]
  },
  {
   "cell_type": "code",
   "execution_count": 6,
   "id": "77510f85-c52a-4ed3-95ac-d12a04475308",
   "metadata": {},
   "outputs": [
    {
     "name": "stdin",
     "output_type": "stream",
     "text": [
      "Number of equations: 10\n",
      "Number of variables: 10\n"
     ]
    },
    {
     "name": "stdout",
     "output_type": "stream",
     "text": [
      "Enter the elements of the coefficient matrix:\n",
      "Enter the elements of row 1,separate each element with a space:\n"
     ]
    },
    {
     "name": "stdin",
     "output_type": "stream",
     "text": [
      " 1 2 3 4 5 6 7 8 9 10\n"
     ]
    },
    {
     "name": "stdout",
     "output_type": "stream",
     "text": [
      "Enter the elements of row 2,separate each element with a space:\n"
     ]
    },
    {
     "name": "stdin",
     "output_type": "stream",
     "text": [
      " 11 10 12 36 25 98 65 32 14 12\n"
     ]
    },
    {
     "name": "stdout",
     "output_type": "stream",
     "text": [
      "Enter the elements of row 3,separate each element with a space:\n"
     ]
    },
    {
     "name": "stdin",
     "output_type": "stream",
     "text": [
      " 2 21 3 36 39 56 42 58 51 53\n"
     ]
    },
    {
     "name": "stdout",
     "output_type": "stream",
     "text": [
      "Enter the elements of row 4,separate each element with a space:\n"
     ]
    },
    {
     "name": "stdin",
     "output_type": "stream",
     "text": [
      " 10 11 23 15 14 18 19 16 32 25\n"
     ]
    },
    {
     "name": "stdout",
     "output_type": "stream",
     "text": [
      "Enter the elements of row 5,separate each element with a space:\n"
     ]
    },
    {
     "name": "stdin",
     "output_type": "stream",
     "text": [
      " 74 75 96 58 42 16 35 25 69 96\n"
     ]
    },
    {
     "name": "stdout",
     "output_type": "stream",
     "text": [
      "Enter the elements of row 6,separate each element with a space:\n"
     ]
    },
    {
     "name": "stdin",
     "output_type": "stream",
     "text": [
      " 38 39 36 54 52 50 15 14 17 18\n"
     ]
    },
    {
     "name": "stdout",
     "output_type": "stream",
     "text": [
      "Enter the elements of row 7,separate each element with a space:\n"
     ]
    },
    {
     "name": "stdin",
     "output_type": "stream",
     "text": [
      " 1 2 6 55 42 32 95 47 49 2\n"
     ]
    },
    {
     "name": "stdout",
     "output_type": "stream",
     "text": [
      "Enter the elements of row 8,separate each element with a space:\n"
     ]
    },
    {
     "name": "stdin",
     "output_type": "stream",
     "text": [
      " 88 75 94 86 53 50 12 18 19 20\n"
     ]
    },
    {
     "name": "stdout",
     "output_type": "stream",
     "text": [
      "Enter the elements of row 9,separate each element with a space:\n"
     ]
    },
    {
     "name": "stdin",
     "output_type": "stream",
     "text": [
      " 15 75 82 83 81 10 12 19 17 57\n"
     ]
    },
    {
     "name": "stdout",
     "output_type": "stream",
     "text": [
      "Enter the elements of row 10,separate each element with a space:\n"
     ]
    },
    {
     "name": "stdin",
     "output_type": "stream",
     "text": [
      " 24 26 51 57 58 49 48 20 23 24\n"
     ]
    },
    {
     "name": "stdout",
     "output_type": "stream",
     "text": [
      "Enter the elements of the constant vector, separate each element with a space:\n"
     ]
    },
    {
     "name": "stdin",
     "output_type": "stream",
     "text": [
      " 100 101 589 54 632 759 666 21 230 25\n"
     ]
    },
    {
     "name": "stdout",
     "output_type": "stream",
     "text": [
      "[[(1+0j), (2+0j), (3+0j), (4+0j), (5+0j), (6+0j), (7+0j), (8+0j), (9+0j), (10+0j)], [(11+0j), (10+0j), (12+0j), (36+0j), (25+0j), (98+0j), (65+0j), (32+0j), (14+0j), (12+0j)], [(2+0j), (21+0j), (3+0j), (36+0j), (39+0j), (56+0j), (42+0j), (58+0j), (51+0j), (53+0j)], [(10+0j), (11+0j), (23+0j), (15+0j), (14+0j), (18+0j), (19+0j), (16+0j), (32+0j), (25+0j)], [(74+0j), (75+0j), (96+0j), (58+0j), (42+0j), (16+0j), (35+0j), (25+0j), (69+0j), (96+0j)], [(38+0j), (39+0j), (36+0j), (54+0j), (52+0j), (50+0j), (15+0j), (14+0j), (17+0j), (18+0j)], [(1+0j), (2+0j), (6+0j), (55+0j), (42+0j), (32+0j), (95+0j), (47+0j), (49+0j), (2+0j)], [(88+0j), (75+0j), (94+0j), (86+0j), (53+0j), (50+0j), (12+0j), (18+0j), (19+0j), (20+0j)], [(15+0j), (75+0j), (82+0j), (83+0j), (81+0j), (10+0j), (12+0j), (19+0j), (17+0j), (57+0j)], [(24+0j), (26+0j), (51+0j), (57+0j), (58+0j), (49+0j), (48+0j), (20+0j), (23+0j), (24+0j)]] [(100+0j), (101+0j), (589+0j), (54+0j), (632+0j), (759+0j), (666+0j), (21+0j), (230+0j), (25+0j)]\n",
      "Answer:\n",
      "[ -12.18683927+0.j -277.94863784+0.j  -99.55969289-0.j  496.1019927 +0.j\n",
      " -231.0160736 +0.j   19.47956072+0.j -101.23098933+0.j -186.88277738-0.j\n",
      "   33.49044218+0.j  192.28233913+0.j]\n",
      "24.8 µs ± 659 ns per loop (mean ± std. dev. of 7 runs, 10,000 loops each)\n"
     ]
    }
   ],
   "source": [
    "import numpy as np\n",
    "import sys\n",
    "eq = int(input(\"Number of equations:\"))\n",
    "var = int(input(\"Number of variables:\"))\n",
    "if eq!=var:\n",
    "    print(\"Matrix A won't be a square matrix with the given inputs.please give same number of equations and variables\")\n",
    "    sys.exit()\n",
    "A = []\n",
    "print(\"Enter the elements of the coefficient matrix:\")\n",
    "#since A is a square matrix, number of equations equals to number of rows and coloumns\n",
    "j=1\n",
    "try:\n",
    "    while eq>0:\n",
    "        print(f\"Enter the elements of row {j},separate each element with a space:\")\n",
    "        row = list(map(complex, input().split()))\n",
    "        A.append(row)\n",
    "        eq=eq-1\n",
    "        j=j+1\n",
    "    b=[]\n",
    "    print(\"Enter the elements of the constant vector, separate each element with a space:\")\n",
    "    b = list(map(complex, input().split()))\n",
    "except ValueError:\n",
    "    print(\"please give valid input elements(a float number)\")\n",
    "    sys.exit()\n",
    "n=len(A)\n",
    "print(A,b)\n",
    "A1=np.array(A)\n",
    "b1=np.array(b)\n",
    "print(\"Answer:\")\n",
    "try:\n",
    "    print(np.linalg.solve(A1, b1))\n",
    "except LinAlgError:\n",
    "    print(\"Please give a valid input\")\n",
    "%timeit np.linalg.solve(A1, b1)"
   ]
  },
  {
   "cell_type": "markdown",
   "id": "57408747-4a15-4ada-8ae5-d70178757ac3",
   "metadata": {},
   "source": [
    "For small number of equations My function and linalg.solve are taking similar time to complete but for larger number of equations like 10*10, linalg.solve is about 3-4 times faster than mine."
   ]
  },
  {
   "cell_type": "markdown",
   "id": "5b745f93-8b69-42ae-80ff-488df5ce6a03",
   "metadata": {},
   "source": [
    "# Circuit Solver:"
   ]
  },
  {
   "cell_type": "code",
   "execution_count": 11,
   "id": "4b7dbc32-2f9f-465c-b6c4-1fedd14002a4",
   "metadata": {},
   "outputs": [
    {
     "name": "stdout",
     "output_type": "stream",
     "text": [
      "['R1 GND 1 1e3', 'R2 1 2 4e3', 'R3 2 GND 20e3', 'R4 2 3 8e3', 'R5 GND 4 10e3', 'V1 GND 4 dc 5']\n",
      "['R1', 'GND', '1', '1e3']\n",
      "['R2', '1', '2', '4e3']\n",
      "['R3', '2', 'GND', '20e3']\n",
      "['R4', '2', '3', '8e3']\n",
      "['R5', 'GND', '4', '10e3']\n",
      "['V1', 'GND', '4', 'dc', '5']\n",
      "DC :[5.0, 0.0, 0.0, 0.0, 0.0005]\n",
      "Nodes:{'4': 0, '1': 1, '2': 2, 'GND': 3, '3': 4}\n"
     ]
    }
   ],
   "source": [
    "def NetlistConvert(file_path):\n",
    "    with open(file_path, 'r') as file:\n",
    "            netlist = file.readlines()\n",
    "    net =[]\n",
    "    t = 0\n",
    "    for line in netlist:\n",
    "        if line[0:2] == \".a\": t = 1\n",
    "        if line[0:2] == \".e\": t = 0\n",
    "        if t == 1:\n",
    "             linesplit = line.split(\"#\")[0].split('\\n')[0].split('  ')\n",
    "             net.append(linesplit[0])\n",
    "        if line[0:2] == \".c\": t = 1\n",
    "    return net\n",
    "net = NetlistConvert('ckt1.netlist')\n",
    "print(net)\n",
    "def MatrixSizeInc(MNA, b):\n",
    "    l = MNA.shape[0]\n",
    "    MNA_temp = np.zeros((l+1, l+1))\n",
    "    b_temp = np.zeros((l+1,1))\n",
    "    MNA_temp[:l, :l] = MNA\n",
    "    b_temp[:l, :] = b\n",
    "    return MNA_temp, b_temp\n",
    "def addRes(MNAdc,value,i,j):\n",
    "    MNAdc[i][i] += 1/float(value)\n",
    "    MNAdc[j][j] += 1/float(value)\n",
    "    MNAdc[i][j] -= 1/float(value)\n",
    "    MNAdc[j][i] -= 1/float(value)\n",
    "    return MNAdc\n",
    "def create_MNA_matrix(netlist):\n",
    "    nodes = set()\n",
    "    components = []\n",
    "    v_type = set()\n",
    "    k = 0\n",
    "    t = complex(0,1)\n",
    "    freq = 0\n",
    "    if netlist[-1].startswith(\".ac\"):\n",
    "      split = netlist[-1].split()\n",
    "      freq = float(split[2])*2*math.pi\n",
    "    for line in netlist:\n",
    "      split_line = line.split()\n",
    "      print(split_line)\n",
    "      if len(split_line) == 3:\n",
    "        continue\n",
    "      component_type = split_line[0]\n",
    "      nodes.update([split_line[1], split_line[2]])\n",
    "      try:\n",
    "        components.append((component_type, split_line[1], split_line[2],split_line[3],split_line[4]))\n",
    "      except IndexError:\n",
    "        try:\n",
    "          components.append((component_type, split_line[1], split_line[2],split_line[3]))\n",
    "        except IndexError:\n",
    "          components.append((component_type, split_line[1], split_line[2],split_line[3],split_line[4],split_line[5]))\n",
    "    node_dict = {node: i for i, node in enumerate(nodes)}\n",
    "    num_nodes = len(nodes)\n",
    "    num_components = len(components)\n",
    "    MNA = np.zeros((num_nodes, num_nodes))\n",
    "    b = np.zeros((num_nodes,1))\n",
    "    if freq !=0:\n",
    "        MNA = np.zeros((num_nodes, num_nodes))*t\n",
    "        b = np.zeros((num_nodes,1))*t\n",
    "    for component in components:\n",
    "        try:\n",
    "         component_type, node1, node2, acdc ,value = component\n",
    "        except ValueError:\n",
    "             try:\n",
    "              component_type, node1, node2,value = component\n",
    "             except ValueError:\n",
    "              component_type, node1, node2, acdc ,value, phase = component\n",
    "        i = node_dict[node1]\n",
    "        j = node_dict[node2]\n",
    "        k = node_dict[\"GND\"]\n",
    "        if component_type[0] == 'R':\n",
    "            MNAdc = addRes(MNA,value,i,j)\n",
    "        elif component_type[0] == 'I':\n",
    "            v_type.update([acdc])\n",
    "            b[i] -= float(value)\n",
    "            b[j] += float(value)\n",
    "\n",
    "        elif component_type[0] == 'V':\n",
    "            v_type.update([acdc])\n",
    "            if acdc.startswith(\"dc\"):\n",
    "                MNA,b = MatrixSizeInc(MNA,b)\n",
    "                l = MNA.shape[0]-1\n",
    "                MNA[l][i] += 1\n",
    "                MNA[l][j] -= 1\n",
    "                MNA[i][l] += 1\n",
    "                MNA[j][l] -= 1\n",
    "                b[l] -= float(value)\n",
    "\n",
    "        elif component_type[0] == 'C':\n",
    "            if freq == 0:\n",
    "             print(\"This function cannot compute DC circuit with a capacitance\")\n",
    "            return None\n",
    "            MNA[i][i] += t*float(value)*freq\n",
    "            MNA[j][j] += t*float(value)*freq\n",
    "            MNA[i][j] -= t*float(value)*freq\n",
    "            MNA[j][i] -= t*float(value)*freq\n",
    "        elif component_type[0] == 'L':\n",
    "            if freq == 0:\n",
    "             print(\"This function cannot compute DC circuit with a capacitance\")\n",
    "            return None\n",
    "            MNA[i][i] += 1/t*float(value)*freq\n",
    "            MNA[j][j] += 1/t*float(value)*freq\n",
    "            MNA[i][j] -= 1/t*float(value)*freq\n",
    "            MNA[j][i] -= 1/t*float(value)*freq\n",
    "    b = np.squeeze(b)\n",
    "    MNA = np.delete(MNA, k, axis=0)\n",
    "    MNA = np.delete(MNA, k, axis=1)\n",
    "    b = np.delete(b, k)\n",
    "    v_type = list(v_type)\n",
    "    if len(v_type) == 1 and v_type[0] == 'dc':\n",
    "        return MNA, b, node_dict,0\n",
    "    elif len(v_type) == 1 and v_type[0] == 'ac':\n",
    "        return MNA, b, node_dict,1\n",
    "    else:\n",
    "        return(\"The code doesn't work for DC+AC supply\")\n",
    "net = NetlistConvert('ckt1.netlist')\n",
    "try:\n",
    "    V,b,nodes,check = create_MNA_matrix(net)\n",
    "    V = V.tolist()\n",
    "    b = b.tolist()\n",
    "    a = linear_eq_solver(V,b)\n",
    "    if check == 0:\n",
    "      print(f\"DC :{a}\\nNodes:{nodes}\")\n",
    "    if check == 1:\n",
    "      print(f\"AC :{a}\\nNodes:{nodes}\")\n",
    "except ValueError:\n",
    "    a = create_MNA_matrix(net)\n",
    "pass"
   ]
  },
  {
   "cell_type": "markdown",
   "id": "3215207a-c9d2-4d63-aa7f-11aeddc0b206",
   "metadata": {},
   "source": [
    "The above code first reads the inputs from a netlist, then splits the lines to find components of the circuit.After finding the components, I tried to find if the given circuit contains AC voltage or DC voltage(if its AC the voltage line contains more elements)and I seperated voltages and current sources with resistors,capacitors and inductors.Then I created two matrices(MNA and b),MNA matrix contains components like Resistors or Capacitors or Inductors and b matrix contains the variable like node voltages and currents.Then I gave these two matrices as inputs to the linear_eq_solver funtion which gives us the values of node voltages and currents.The above does not work if there are sources with different frequencies or if a circuit contains both AC and DC.  \n"
   ]
  }
 ],
 "metadata": {
  "authors": [
   {
    "name": "G.Sai Krishna Reddy <ee21b049>"
   }
  ],
  "kernelspec": {
   "display_name": "Python 3 (ipykernel)",
   "language": "python",
   "name": "python3"
  },
  "language_info": {
   "codemirror_mode": {
    "name": "ipython",
    "version": 3
   },
   "file_extension": ".py",
   "mimetype": "text/x-python",
   "name": "python",
   "nbconvert_exporter": "python",
   "pygments_lexer": "ipython3",
   "version": "3.9.2"
  }
 },
 "nbformat": 4,
 "nbformat_minor": 5
}
